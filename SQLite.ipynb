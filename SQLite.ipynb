{
  "nbformat": 4,
  "nbformat_minor": 0,
  "metadata": {
    "colab": {
      "provenance": [],
      "authorship_tag": "ABX9TyPHBodeNDO1l3Xkz1ijJgyM",
      "include_colab_link": true
    },
    "kernelspec": {
      "name": "python3",
      "display_name": "Python 3"
    },
    "language_info": {
      "name": "python"
    }
  },
  "cells": [
    {
      "cell_type": "markdown",
      "metadata": {
        "id": "view-in-github",
        "colab_type": "text"
      },
      "source": [
        "<a href=\"https://colab.research.google.com/github/solver2005/basis_of_python/blob/main/SQLite.ipynb\" target=\"_parent\"><img src=\"https://colab.research.google.com/assets/colab-badge.svg\" alt=\"Open In Colab\"/></a>"
      ]
    },
    {
      "cell_type": "code",
      "execution_count": null,
      "metadata": {
        "id": "2e8isJP5cd00"
      },
      "outputs": [],
      "source": [
        "#0\n",
        "import sqlite3\n",
        "connection = sqlite3.connect('library.db')\n",
        "cursor = connection.cursor()\n"
      ]
    },
    {
      "cell_type": "code",
      "source": [
        "#1\n",
        "create_table_query = '''\n",
        "CREATE TABLE IF NOT EXISTS books (\n",
        "  id INTEGER PRIMARY KEY AUTOINCREMENT,\n",
        "  title TEXT NOT NULL,\n",
        "  author TEXT NOT NULL,\n",
        "  year_published INTEGER,\n",
        "  genre TEXT\n",
        ")\n",
        "'''\n",
        "cursor.execute(create_table_query)\n",
        "connection.commit()"
      ],
      "metadata": {
        "id": "Cis64qOTdgly"
      },
      "execution_count": null,
      "outputs": []
    },
    {
      "cell_type": "code",
      "source": [
        "#2\n",
        "insert_into_table = '''\n",
        "  INSERT INTO books( title, author, year_published, genre)\n",
        "  VALUES(?, ?, ?, ?)\n",
        "  '''\n",
        "books_data = [\n",
        "    (\"The Great Gatsby\", 'F. Scott Fitzgerald', 1925, 'Fiction'),\n",
        "    (\"1984\", 'George Orwell', 1949, 'Dystopian'),\n",
        "    (\"To Kill a Mockingbird\", 'Harper Lee', 1960, 'Classic')\n",
        "]\n",
        "cursor.executemany(insert_into_table, books_data)\n",
        "connection.commit()\n"
      ],
      "metadata": {
        "id": "awQnfPOYehTk"
      },
      "execution_count": null,
      "outputs": []
    },
    {
      "cell_type": "code",
      "source": [
        "#3\n",
        "select_query = '''\n",
        "  SELECT title, author, genre FROM books\n",
        "  '''\n",
        "cursor.execute(select_query)\n",
        "rows = cursor.fetchall()\n",
        "for row in rows:\n",
        "  print(row)\n"
      ],
      "metadata": {
        "colab": {
          "base_uri": "https://localhost:8080/"
        },
        "id": "XsYeVXMDg7xU",
        "outputId": "68e4c8a4-96fa-47cf-e35c-a207e411e23e"
      },
      "execution_count": null,
      "outputs": [
        {
          "output_type": "stream",
          "name": "stdout",
          "text": [
            "('The Great Gatsby', 'F. Scott Fitzgerald', 'Fiction')\n",
            "('1984', 'George Orwell', 'Dystopian')\n",
            "('To Kill a Mockingbird', 'Harper Lee', 'Classic')\n"
          ]
        }
      ]
    },
    {
      "cell_type": "code",
      "source": [
        "#4\n",
        "select_query = '''\n",
        "  SELECT title, author, genre FROM books WHERE year_published > ?;\n",
        "  '''\n",
        "required_year = 1950\n",
        "cursor.execute(select_query, (required_year,))\n",
        "rows = cursor.fetchall()\n",
        "for row in rows:\n",
        "  print(row)"
      ],
      "metadata": {
        "colab": {
          "base_uri": "https://localhost:8080/"
        },
        "id": "-oV8KFRPhvv9",
        "outputId": "0aebf0fd-fe7b-400d-ad07-fa39aa2f28d9"
      },
      "execution_count": null,
      "outputs": [
        {
          "output_type": "stream",
          "name": "stdout",
          "text": [
            "('To Kill a Mockingbird', 'Harper Lee', 'Classic')\n"
          ]
        }
      ]
    },
    {
      "cell_type": "code",
      "source": [
        "#5\n",
        "select_query = '''\n",
        "  SELECT title, author, genre FROM books WHERE title LIKE ?;\n",
        "  '''\n",
        "search_pattern = 'T%'\n",
        "cursor.execute(select_query, (search_pattern,))\n",
        "rows = cursor.fetchall()\n",
        "for row in rows:\n",
        "  print(row)\n"
      ],
      "metadata": {
        "colab": {
          "base_uri": "https://localhost:8080/"
        },
        "id": "CpBPQk8dijAJ",
        "outputId": "852e2bdd-1e5b-47b9-c733-7646a374ee65"
      },
      "execution_count": null,
      "outputs": [
        {
          "output_type": "stream",
          "name": "stdout",
          "text": [
            "('The Great Gatsby', 'F. Scott Fitzgerald', 'Fiction')\n",
            "('To Kill a Mockingbird', 'Harper Lee', 'Classic')\n"
          ]
        }
      ]
    },
    {
      "cell_type": "code",
      "source": [
        "#6\n",
        "select_query = '''\n",
        "  SELECT title, author, genre FROM books\n",
        "  ORDER BY year_published;\n",
        "  '''\n",
        "cursor.execute(select_query)\n",
        "rows = cursor.fetchall()\n",
        "for row in rows:\n",
        "  print(row)"
      ],
      "metadata": {
        "colab": {
          "base_uri": "https://localhost:8080/"
        },
        "id": "3T1cxn6ojlbi",
        "outputId": "ae160603-ead8-417e-e262-44f1cf1bb3f5"
      },
      "execution_count": null,
      "outputs": [
        {
          "output_type": "stream",
          "name": "stdout",
          "text": [
            "('The Great Gatsby', 'F. Scott Fitzgerald', 'Fiction')\n",
            "('1984', 'George Orwell', 'Dystopian')\n",
            "('To Kill a Mockingbird', 'Harper Lee', 'Classic')\n"
          ]
        }
      ]
    },
    {
      "cell_type": "code",
      "source": [
        "#7\n",
        "select_query = '''\n",
        "  SELECT title, author, genre FROM books\n",
        "  ORDER BY title\n",
        "  LIMIT 2;\n",
        "  '''\n",
        "cursor.execute(select_query)\n",
        "rows = cursor.fetchall()\n",
        "for row in rows:\n",
        "  print(row)"
      ],
      "metadata": {
        "colab": {
          "base_uri": "https://localhost:8080/"
        },
        "id": "u86st0A7kFdQ",
        "outputId": "a005f6e8-02c5-46a7-c3e6-319092949fa0"
      },
      "execution_count": null,
      "outputs": [
        {
          "output_type": "stream",
          "name": "stdout",
          "text": [
            "('1984', 'George Orwell', 'Dystopian')\n",
            "('The Great Gatsby', 'F. Scott Fitzgerald', 'Fiction')\n"
          ]
        }
      ]
    },
    {
      "cell_type": "code",
      "source": [
        "#8\n",
        "select_query = '''\n",
        "  SELECT COUNT(*) FROM books;\n",
        "  '''\n",
        "cursor.execute(select_query)\n",
        "res = cursor.fetchone()\n",
        "print(res[0])"
      ],
      "metadata": {
        "colab": {
          "base_uri": "https://localhost:8080/"
        },
        "id": "XR519FCKkYvs",
        "outputId": "0a51e51b-bd50-481b-90d9-9fc31bfe9ece"
      },
      "execution_count": null,
      "outputs": [
        {
          "output_type": "stream",
          "name": "stdout",
          "text": [
            "3\n"
          ]
        }
      ]
    },
    {
      "cell_type": "code",
      "source": [
        "#9\n",
        "select_query = '''\n",
        "  SELECT COUNT(*) FROM books\n",
        "  GROUP BY genre;\n",
        "  '''\n",
        "cursor.execute(select_query)\n",
        "rows = cursor.fetchall()\n",
        "for row in rows:\n",
        "  print(row[0])"
      ],
      "metadata": {
        "colab": {
          "base_uri": "https://localhost:8080/"
        },
        "id": "buTgVIZJksIO",
        "outputId": "87fb9800-feb6-4182-8d32-c0b33318bfc2"
      },
      "execution_count": null,
      "outputs": [
        {
          "output_type": "stream",
          "name": "stdout",
          "text": [
            "1\n",
            "1\n",
            "1\n"
          ]
        }
      ]
    },
    {
      "cell_type": "code",
      "source": [
        "#10\n",
        "update_query = '''\n",
        "UPDATE books\n",
        "SET year_published = ?\n",
        "WHERE title = ?;\n",
        "'''\n",
        "new_year = 1948\n",
        "the_title = '1984'\n",
        "cursor.execute(update_query, (new_year, the_title))\n",
        "connection.commit()"
      ],
      "metadata": {
        "id": "qsAa_9IQlT6o"
      },
      "execution_count": null,
      "outputs": []
    },
    {
      "cell_type": "code",
      "source": [
        "#11\n",
        "delete_query = '''\n",
        "DELETE FROM books\n",
        "WHERE title = ?;\n",
        "'''\n",
        "the_title = 'The Great Gatsby'\n",
        "cursor.execute(delete_query, (the_title,))\n",
        "connection.commit()"
      ],
      "metadata": {
        "id": "6PWDGo7NmBra"
      },
      "execution_count": null,
      "outputs": []
    },
    {
      "cell_type": "code",
      "source": [
        "#12\n",
        "index_query = '''\n",
        " CREATE INDEX IF NOT EXISTS idx_author ON books(author)\n",
        " '''\n",
        "cursor.execute(index_query)\n",
        "connection.commit()"
      ],
      "metadata": {
        "id": "7f_BbI9fmkBp"
      },
      "execution_count": null,
      "outputs": []
    },
    {
      "cell_type": "code",
      "source": [
        "#13\n",
        "cursor.execute('''\n",
        "SELECT name FROM sqlite_master WHERE type='index' AND name='idx_author';\n",
        "''')\n",
        "result = cursor.fetchone()\n",
        "if result:\n",
        "  print(f\"Индекс '{result[0]}' существует.\")\n",
        "else:\n",
        "  print(\"Индекс не существует.\")"
      ],
      "metadata": {
        "colab": {
          "base_uri": "https://localhost:8080/"
        },
        "id": "vxl-q4SinTTG",
        "outputId": "7db5ce79-0379-4d6a-99bc-28d4ace8dd19"
      },
      "execution_count": null,
      "outputs": [
        {
          "output_type": "stream",
          "name": "stdout",
          "text": [
            "Индекс 'idx_author' существует.\n"
          ]
        }
      ]
    },
    {
      "cell_type": "code",
      "source": [
        "#14\n",
        "cursor.execute('''\n",
        "CREATE TABLE IF NOT EXISTS logs(\n",
        "  id INTEGER PRIMARY KEY AUTOINCREMENT,\n",
        "  book_id INTEGER,\n",
        "  action TEXT,\n",
        "  timestamp DATETIME DEFAULT CURRENT_TIMESTAMP\n",
        ");\n",
        "''')\n",
        "create_trigger_query = '''\n",
        "CREATE TRIGGER IF NOT EXISTS log_books_changes\n",
        "AFTER INSERT ON books\n",
        "FOR EACH ROW\n",
        "BEGIN\n",
        "  INSERT INTO logs (book_id, action)\n",
        "  VALUES (NEW.id, 'INSERT');\n",
        "END;\n",
        "'''\n",
        "cursor.execute(create_trigger_query)\n",
        "connection.commit()"
      ],
      "metadata": {
        "id": "yiIQp2zOoCI2"
      },
      "execution_count": null,
      "outputs": []
    },
    {
      "cell_type": "code",
      "source": [
        "#15\n",
        "try:\n",
        "  cursor.execute('BEGIN TRANSACTION')\n",
        "  cursor.execute('''\n",
        "  INSERT INTO books (title, author, year_published, genre)\n",
        "  VALUES(?, ?, ?, ?)\n",
        "  ''', ('New_book', 'Unknown', 1920, 'Drama'))\n",
        "  cursor.execute('''\n",
        "  UPDATE books\n",
        "  SET year_published = year_published + 1\n",
        "  WHERE title = ?;\n",
        "  ''', ('1984',))\n",
        "  connection.commit()\n",
        "  print(\"Транзакция успешно завершена.\")\n",
        "except Exception as e:\n",
        "  connection.rollback()\n",
        "  print(f\"Ошибка: {e}. Изменения отменены.\")\n"
      ],
      "metadata": {
        "colab": {
          "base_uri": "https://localhost:8080/"
        },
        "id": "1V9b5iNe0ZlL",
        "outputId": "587d73d1-1f64-4691-8902-73e6458e258f"
      },
      "execution_count": null,
      "outputs": [
        {
          "output_type": "stream",
          "name": "stdout",
          "text": [
            "Транзакция успешно завершена.\n"
          ]
        }
      ]
    },
    {
      "cell_type": "code",
      "source": [
        "#16\n",
        "def calculate_age(age):\n",
        "  from datetime import datetime\n",
        "  current_year = datetime.now().year\n",
        "  return current_year - age\n",
        "connection.create_function(\"calculate_age\", 1, calculate_age)\n",
        "cursor.execute('''\n",
        "  SELECT calculate_age(year_published) FROM books;\n",
        "''')\n",
        "rows = cursor.fetchall()\n",
        "for row in rows:\n",
        "  print(row[0])\n"
      ],
      "metadata": {
        "colab": {
          "base_uri": "https://localhost:8080/"
        },
        "id": "6Jkl1366oQJ0",
        "outputId": "dbb8a3b7-1a17-40fc-b56a-4a30fd4e7394"
      },
      "execution_count": null,
      "outputs": [
        {
          "output_type": "stream",
          "name": "stdout",
          "text": [
            "76\n",
            "65\n",
            "105\n"
          ]
        }
      ]
    },
    {
      "cell_type": "code",
      "source": [
        "#17\n",
        "cursor.execute('''\n",
        "CREATE VIEW IF NOT EXISTS modern_books AS\n",
        "SELECT * FROM books WHERE year_published > 1950;\n",
        "''')\n",
        "cursor.execute('SELECT * FROM modern_books')\n",
        "rows = cursor.fetchall()\n",
        "for row in rows:\n",
        "  print(row)\n"
      ],
      "metadata": {
        "colab": {
          "base_uri": "https://localhost:8080/"
        },
        "id": "u3YPtTiov2mk",
        "outputId": "eebfe2ab-24d0-4e16-b628-61b5f664c8a5"
      },
      "execution_count": null,
      "outputs": [
        {
          "output_type": "stream",
          "name": "stdout",
          "text": [
            "(3, 'To Kill a Mockingbird', 'Harper Lee', 1960, 'Classic')\n"
          ]
        }
      ]
    },
    {
      "cell_type": "code",
      "source": [
        "#18\n",
        "cursor.execute('''\n",
        "DROP TABLE IF EXISTS books\n",
        "''')\n",
        "connection.commit()\n",
        "cursor.execute('''\n",
        "SELECT name FROM sqlite_master WHERE type='table' AND name='books';\n",
        "''')\n",
        "result = cursor.fetchone()\n",
        "if result:\n",
        "  print('Таблица books существует.')\n",
        "else:\n",
        "  print('Таблица books не существует.')"
      ],
      "metadata": {
        "colab": {
          "base_uri": "https://localhost:8080/"
        },
        "id": "HdK1_VMhxTLp",
        "outputId": "a72b9889-e3aa-48b2-9ed4-f9b54c05cf9e"
      },
      "execution_count": null,
      "outputs": [
        {
          "output_type": "stream",
          "name": "stdout",
          "text": [
            "Таблица books не существует.\n"
          ]
        }
      ]
    },
    {
      "cell_type": "code",
      "source": [
        "#19\n",
        "cursor.execute('''\n",
        "  CREATE INDEX IF NOT EXISTS idx_author_year_published\n",
        "  ON books (author, year_published);\n",
        "''')\n",
        "connection.commit()"
      ],
      "metadata": {
        "id": "3xETvAO7x8bC"
      },
      "execution_count": null,
      "outputs": []
    },
    {
      "cell_type": "code",
      "source": [
        "#20\n",
        "import os\n",
        "db_file = 'library.db'\n",
        "connection.close()\n",
        "if os.path.exists(db_file):\n",
        "  print(f\"Удаляем базу данных '{db_file}'...\")\n",
        "  os.remove(db_file)\n",
        "else:\n",
        "  print(f\"База данных '{db_file}' не существует.\")"
      ],
      "metadata": {
        "colab": {
          "base_uri": "https://localhost:8080/"
        },
        "id": "RatfplZRBtai",
        "outputId": "77fa14e0-f83c-46ed-b237-d38af2480cc6"
      },
      "execution_count": null,
      "outputs": [
        {
          "output_type": "stream",
          "name": "stdout",
          "text": [
            "Удаляем базу данных 'library.db'...\n"
          ]
        }
      ]
    },
    {
      "cell_type": "code",
      "source": [
        "#21\n",
        "import sqlite3\n",
        "connection = sqlite3.connect('managment5.db')\n",
        "cursor = connection.cursor()\n",
        "cursor.execute('''\n",
        "CREATE TABLE IF NOT EXISTS employee (\n",
        "    id INTEGER PRIMARY KEY AUTOINCREMENT,\n",
        "    name VARCHAR(255) NOT NULL,\n",
        "    surname VARCHAR(255) NOT NULL,\n",
        "    age INT CHECK (age >= 18), -- Возраст не может быть меньше 18\n",
        "    position VARCHAR(255),\n",
        "    department VARCHAR(255),\n",
        "    salary INT CHECK (salary >= 0), -- Зарплата не может быть отрицательной\n",
        "    isdeveloper INTEGER DEFAULT 0,\n",
        "    ismanager INTEGER DEFAULT 0\n",
        ");\n",
        "'''\n",
        ")\n",
        "\n",
        "connection.commit()\n",
        "connection.close()"
      ],
      "metadata": {
        "id": "ivfabxYBCZwM"
      },
      "execution_count": 4,
      "outputs": []
    },
    {
      "cell_type": "code",
      "source": [
        "connection = sqlite3.connect('managment5.db')\n",
        "cursor = connection.cursor()\n",
        "cursor.execute(\n",
        "'''\n",
        "INSERT INTO employee (name, surname, age, position, department, salary, isdeveloper, ismanager)\n",
        "VALUES\n",
        "    ('Иван', 'Иванов', 25, 'Разработчик', 'IT', 80000, 1, 0),\n",
        "    ('Петр', 'Петров', 30, 'Менеджер', 'Продажи', 90000, 0, 1),\n",
        "    ('Анна', 'Сидорова', 28, 'Аналитик', 'Финансы', 75000, 0, 0),\n",
        "    ('Мария', 'Кузнецова', 35, 'Тестировщик', 'IT', 70000, 1, 0),\n",
        "    ('Алексей', 'Смирнов', 40, 'Директор', 'Управление', 150000, 0, 1),\n",
        "    ('Елена', 'Васильева', 22, 'Стажер', 'IT', 40000, 1, 0),\n",
        "    ('Дмитрий', 'Федоров', 45, 'Архитектор', 'IT', 120000, 1, 0),\n",
        "    ('Ольга', 'Николаева', 33, 'HR-менеджер', 'HR', 65000, 0, 1),\n",
        "    ('Сергей', 'Павлов', 29, 'DevOps', 'IT', 110000, 1, 0),\n",
        "    ('Татьяна', 'Михайлова', 27, 'Дизайнер', 'Маркетинг', 60000, 0, 0);\n",
        "'''\n",
        ")\n",
        "cursor.execute('''\n",
        "  SELECT * FROM employee;\n",
        "''')\n",
        "rows = cursor.fetchall()\n",
        "for row in rows:\n",
        "  print(row)\n",
        "connection.close()"
      ],
      "metadata": {
        "colab": {
          "base_uri": "https://localhost:8080/"
        },
        "id": "497Qr9il1IoH",
        "outputId": "37aa6a66-96b3-4161-96cc-5ff81488d212"
      },
      "execution_count": 5,
      "outputs": [
        {
          "output_type": "stream",
          "name": "stdout",
          "text": [
            "(1, 'Иван', 'Иванов', 25, 'Разработчик', 'IT', 80000, 1, 0)\n",
            "(2, 'Петр', 'Петров', 30, 'Менеджер', 'Продажи', 90000, 0, 1)\n",
            "(3, 'Анна', 'Сидорова', 28, 'Аналитик', 'Финансы', 75000, 0, 0)\n",
            "(4, 'Мария', 'Кузнецова', 35, 'Тестировщик', 'IT', 70000, 1, 0)\n",
            "(5, 'Алексей', 'Смирнов', 40, 'Директор', 'Управление', 150000, 0, 1)\n",
            "(6, 'Елена', 'Васильева', 22, 'Стажер', 'IT', 40000, 1, 0)\n",
            "(7, 'Дмитрий', 'Федоров', 45, 'Архитектор', 'IT', 120000, 1, 0)\n",
            "(8, 'Ольга', 'Николаева', 33, 'HR-менеджер', 'HR', 65000, 0, 1)\n",
            "(9, 'Сергей', 'Павлов', 29, 'DevOps', 'IT', 110000, 1, 0)\n",
            "(10, 'Татьяна', 'Михайлова', 27, 'Дизайнер', 'Маркетинг', 60000, 0, 0)\n"
          ]
        }
      ]
    }
  ]
}